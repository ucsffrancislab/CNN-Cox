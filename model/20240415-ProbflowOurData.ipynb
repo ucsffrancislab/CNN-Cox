{
 "cells": [
  {
   "cell_type": "markdown",
   "id": "153ebbaa",
   "metadata": {},
   "source": [
    "https://probflow.readthedocs.io/en/stable/examples/time_to_event.html"
   ]
  },
  {
   "cell_type": "code",
   "execution_count": 1,
   "id": "feb3baac",
   "metadata": {},
   "outputs": [
    {
     "name": "stderr",
     "output_type": "stream",
     "text": [
      "2024-04-15 15:15:30.636719: I tensorflow/core/platform/cpu_feature_guard.cc:182] This TensorFlow binary is optimized to use available CPU instructions in performance-critical operations.\n",
      "To enable the following instructions: AVX2 FMA, in other operations, rebuild TensorFlow with the appropriate compiler flags.\n"
     ]
    }
   ],
   "source": [
    "# Imports\n",
    "import probflow as pf\n",
    "import numpy as np\n",
    "import matplotlib.pyplot as plt\n",
    "import tensorflow as tf\n",
    "import tensorflow_probability as tfp\n",
    "tfd = tfp.distributions"
   ]
  },
  {
   "cell_type": "raw",
   "id": "2a28a2f5",
   "metadata": {},
   "source": [
    "randn = lambda *x: np.random.randn(*x).astype('float32')\n",
    "\n",
    "# Generate time-to-event data\n",
    "N = 100 #number of customers\n",
    "D = 2   #number of predictors\n",
    "x = randn(N, D)\n",
    "w = np.array([[1.], [-1.]]).astype('float32')\n",
    "b = randn(1, 1)\n",
    "y = tfd.Exponential(tf.nn.softplus(x@w + b)).sample().numpy()\n",
    "\n",
    "# Simulate purchase times\n",
    "t_stop = 10 #time of data collection\n",
    "t1 = t_stop*np.random.rand(N)\n",
    "t2 = t1 + y[:, 0]\n",
    "cix = t2>t_stop\n",
    "cid = np.arange(N) #customer id\n",
    "\n",
    "# Plot em\n",
    "plt.plot(np.row_stack((t1[~cix], t2[~cix])),\n",
    "         np.row_stack((cid, cid))[:, ~cix], 'g')\n",
    "plt.plot(np.row_stack((t1[cix], t_stop+0*t2[cix])),\n",
    "         np.row_stack((cid, cid))[:, cix], 'r')\n",
    "plt.plot(t1, cid, '.')\n",
    "plt.plot(t2[~cix], cid[~cix], 'g.')\n",
    "plt.axvline(t_stop, color='k', linestyle=':')"
   ]
  },
  {
   "cell_type": "raw",
   "id": "f1c64f83",
   "metadata": {},
   "source": [
    "# Plot the data\n",
    "for d in range(D):\n",
    "    plt.subplot(1, 2, d+1)\n",
    "    plt.plot(x[:, d], y, '.')\n",
    "    plt.plot(x[cix, d], y[cix], 'ro')\n",
    "    plt.yscale('log')"
   ]
  },
  {
   "cell_type": "raw",
   "id": "9288bc3d",
   "metadata": {},
   "source": [
    "# Use only datapoints which were observed\n",
    "y_train = y[~cix, :]\n",
    "x_train = x[~cix, :]\n",
    "\n",
    "# Plot em\n",
    "plt.plot(y_train, '.')"
   ]
  },
  {
   "cell_type": "raw",
   "id": "ba3ed8c9",
   "metadata": {},
   "source": [
    "class RegularSurvivalModel(pf.ContinuousModel):\n",
    "\n",
    "    def __init__(self, d):\n",
    "        self.w = pf.Parameter([d, 1], name='w')\n",
    "        self.b = pf.Parameter([1, 1], name='b')\n",
    "\n",
    "    def __call__(self, x):\n",
    "        preds = tf.nn.softplus(x @ self.w() + self.b())\n",
    "        return tfd.Exponential(preds)"
   ]
  },
  {
   "cell_type": "raw",
   "id": "287f5782",
   "metadata": {},
   "source": [
    "class RegularSurvivalModel(pf.ContinuousModel):\n",
    "\n",
    "    def __init__(self, d):\n",
    "        self.layer = pf.Dense(d)\n",
    "\n",
    "    def __call__(self, x):\n",
    "        return tfd.Exponential(tf.nn.softplus(self.layer(x)))"
   ]
  },
  {
   "cell_type": "raw",
   "id": "bd3438bc",
   "metadata": {},
   "source": [
    "model1 = RegularSurvivalModel(D)"
   ]
  },
  {
   "cell_type": "raw",
   "id": "cbce9c44",
   "metadata": {},
   "source": [
    "model1.fit(x_train, y_train, lr=0.02, epochs=1000)"
   ]
  },
  {
   "cell_type": "raw",
   "id": "30aeee9a",
   "metadata": {},
   "source": [
    "# Show model posteriors\n",
    "model1.posterior_plot(ci=0.9)\n",
    "\n",
    "# True parameter values\n",
    "plt.subplot(2, 1, 1)\n",
    "plt.axvline(w[0], color='C0')\n",
    "plt.axvline(w[1], color='C1')\n",
    "plt.subplot(2, 1, 2)\n",
    "plt.axvline(b, color='C0')"
   ]
  },
  {
   "cell_type": "raw",
   "id": "a5ccdc4a",
   "metadata": {},
   "source": [
    "# Set nonobserved datapoints to time waiting\n",
    "x_train = x\n",
    "y_train = y.copy()\n",
    "y_train[cix, 0] = t_stop-t1[cix]\n",
    "\n",
    "# Plot em\n",
    "plt.plot(y_train, '.')"
   ]
  },
  {
   "cell_type": "raw",
   "id": "0ad59ffd",
   "metadata": {},
   "source": [
    "# Instantiate and fit a new model\n",
    "model = RegularSurvivalModel(D)\n",
    "model.fit(x_train, y_train, lr=0.02, epochs=1000)\n",
    "\n",
    "# Show model posteriors\n",
    "model.posterior_plot(ci=0.9)\n",
    "\n",
    "# True parameter values\n",
    "plt.subplot(2, 1, 1)\n",
    "plt.axvline(w[0], color='C0')\n",
    "plt.axvline(w[1], color='C1')\n",
    "plt.subplot(2, 1, 2)\n",
    "plt.axvline(b, color='C0')"
   ]
  },
  {
   "cell_type": "raw",
   "id": "243e96f5",
   "metadata": {},
   "source": [
    "# Use all the data!\n",
    "x_train = x\n",
    "y_train = y.copy()\n",
    "\n",
    "# Neg. wait time w/ still no observation\n",
    "y_train[cix, 0] = t1[cix]-t_stop\n",
    "\n",
    "# Plot it\n",
    "plt.plot(y_train[cix], 'r.')\n",
    "plt.plot(y_train[~cix], 'g.')\n",
    "plt.xlabel('Customer ID')\n",
    "plt.ylabel('Observed time to next purchase\\n'\n",
    "           'or neg time w/o repeat purchase')\n",
    "plt.show()"
   ]
  },
  {
   "cell_type": "code",
   "execution_count": 2,
   "id": "b970cc4d",
   "metadata": {},
   "outputs": [],
   "source": [
    "class CensoredSurvivalModel(pf.ContinuousModel):\n",
    "\n",
    "    def __init__(self, d):\n",
    "        self.layer = pf.Dense(d)\n",
    "\n",
    "    def __call__(self, x):\n",
    "        return tfd.Exponential(tf.nn.softplus(self.layer(x)))\n",
    "\n",
    "    def log_likelihood(self, x, y):\n",
    "        \"\"\"If y>=0, that's the time to the observed event.\n",
    "        If y<0, it has not yet been observed after -y time!\"\"\"\n",
    "\n",
    "        # Predicted distributions\n",
    "        dist = self(x)\n",
    "\n",
    "        # Likelihoods of observed time-to-events\n",
    "        obs_ll = dist.log_prob(y)[y>=0]\n",
    "\n",
    "        # Likelihoods of events not yet observed\n",
    "        non_ll = dist.log_survival_function(-y)[y<0]\n",
    "\n",
    "        # Return the sum of log likelihoods\n",
    "        return tf.reduce_sum(obs_ll) + tf.reduce_sum(non_ll)"
   ]
  },
  {
   "cell_type": "raw",
   "id": "f769783e",
   "metadata": {},
   "source": [
    "model2 = CensoredSurvivalModel(D)"
   ]
  },
  {
   "cell_type": "raw",
   "id": "f97b25ca",
   "metadata": {},
   "source": [
    "model2.fit(x_train, y_train, lr=0.02, epochs=1000)"
   ]
  },
  {
   "cell_type": "raw",
   "id": "d109af22",
   "metadata": {},
   "source": [
    "# Show model posteriors\n",
    "model2.posterior_plot(ci=0.9)\n",
    "\n",
    "# True parameter values\n",
    "plt.subplot(2, 1, 1)\n",
    "plt.axvline(w[0], color='C0')\n",
    "plt.axvline(w[1], color='C1')\n",
    "plt.subplot(2, 1, 2)\n",
    "plt.axvline(b, color='C0')"
   ]
  },
  {
   "cell_type": "raw",
   "id": "3b264694",
   "metadata": {},
   "source": [
    "# Make predictions with both models\n",
    "y_pred1 = model1.predict(x)\n",
    "y_pred2 = model2.predict(x)\n",
    "\n",
    "# Compare predictions from two models\n",
    "plt.plot(y, y_pred1, '.')\n",
    "plt.plot(y, y_pred2, '.')\n",
    "plt.plot([0.1, 100], [0.1, 100], 'k:')\n",
    "plt.xscale('log')\n",
    "plt.yscale('log')"
   ]
  },
  {
   "cell_type": "raw",
   "id": "4d5e9395",
   "metadata": {},
   "source": [
    "class DeepSurvivalModel(pf.ContinuousModel):\n",
    "\n",
    "    def __init__(self, dims):\n",
    "        self.net = pf.DenseNetwork(dims)\n",
    "\n",
    "    def __call__(self, x):\n",
    "        return tfd.Exponential(tf.nn.softplus(self.net(x)))\n",
    "\n",
    "    def log_likelihood(self, x, y):\n",
    "        \"\"\"Same as before\"\"\"\n",
    "        dist = self(x)\n",
    "        obs_ll = dist.log_prob(y)[y>=0]\n",
    "        non_ll = dist.log_survival_function(-y)[y<0]\n",
    "        return tf.reduce_sum(obs_ll) + tf.reduce_sum(non_ll)"
   ]
  },
  {
   "cell_type": "raw",
   "id": "aff3402d",
   "metadata": {},
   "source": [
    "# Plot some Exponential distributions\n",
    "xx = np.linspace(0, 4, 500)\n",
    "for p in [1, 2, 3, 4]:\n",
    "    plt.plot(xx, tfd.Exponential(p).prob(xx))"
   ]
  },
  {
   "cell_type": "raw",
   "id": "4a315a67",
   "metadata": {},
   "source": [
    "# Plot some Gamma distributions\n",
    "xx = np.linspace(0, 10, 500)\n",
    "for p in [[1, 1], [5, 5], [10, 4], [15, 3]]:\n",
    "    plt.plot(xx, tfd.Gamma(*p).prob(xx))"
   ]
  },
  {
   "cell_type": "raw",
   "id": "3e8728f9",
   "metadata": {},
   "source": [
    "class DeepSurvivalModel(pf.ContinuousModel):\n",
    "\n",
    "    def __init__(self, dims):\n",
    "        self.a_net = pf.DenseNetwork(dims) #net to predict alpha\n",
    "        self.b_net = pf.DenseNetwork(dims) #net to predict beta\n",
    "\n",
    "    def __call__(self, x):\n",
    "        a = tf.nn.softplus(self.a_net(x))\n",
    "        b = tf.nn.softplus(self.b_net(x))\n",
    "        return tfd.Gamma(a, b)\n",
    "\n",
    "    def log_likelihood(self, x, y):\n",
    "        \"\"\"If y>=0, that's the time to the observed event.\n",
    "        If y<0, it has not yet been observed after -y time!\"\"\"\n",
    "\n",
    "        def grad_safe_indexed_gamma_lp(x, y, lp_fn, ix_fn, min_lp=-100):\n",
    "            a = tf.nn.softplus(self.a_net(x))\n",
    "            b = tf.nn.softplus(self.b_net(x))\n",
    "            ix = ix_fn(y[:, 0]) #indexes to use (observed vs not)\n",
    "            y_ix = tf.boolean_mask(y, ix, axis=0)\n",
    "            a_ix = tf.boolean_mask(a, ix, axis=0)\n",
    "            b_ix = tf.boolean_mask(b, ix, axis=0)\n",
    "            lp = lp_fn(tfd.Gamma(a_ix, b_ix), y_ix)\n",
    "            safe = lp[:, 0]>min_lp #indexes with \"safe\" log probs\n",
    "            y_safe = tf.boolean_mask(y_ix, safe, axis=0)\n",
    "            a_safe = tf.boolean_mask(a_ix, safe, axis=0)\n",
    "            b_safe = tf.boolean_mask(b_ix, safe, axis=0)\n",
    "            return lp_fn(tfd.Gamma(a_safe, b_safe), y_safe)\n",
    "\n",
    "        # Likelihoods of observed datapoints\n",
    "        obs_ll = grad_safe_indexed_gamma_lp(x, y,\n",
    "            lambda dist, y: dist.log_prob(y),\n",
    "            lambda y: y>=0)\n",
    "\n",
    "        # Likelihoods of datapoints which were not observed\n",
    "        non_ll = grad_safe_indexed_gamma_lp(x, y,\n",
    "            lambda dist, y: dist.log_survival_function(-y),\n",
    "            lambda y: y<0)\n",
    "\n",
    "        # Return the sum of log likelihoods\n",
    "        return tf.reduce_sum(obs_ll) + tf.reduce_sum(non_ll)"
   ]
  },
  {
   "cell_type": "raw",
   "id": "dd28079c",
   "metadata": {},
   "source": [
    "model = DeepSurvivalModel([D, 1])"
   ]
  },
  {
   "cell_type": "markdown",
   "id": "241fe993",
   "metadata": {},
   "source": [
    "---"
   ]
  },
  {
   "cell_type": "code",
   "execution_count": 3,
   "id": "6bd46bd7",
   "metadata": {},
   "outputs": [],
   "source": [
    "import pandas as pd\n",
    "#import numpy as np"
   ]
  },
  {
   "cell_type": "code",
   "execution_count": 4,
   "id": "e7f46a54",
   "metadata": {},
   "outputs": [
    {
     "data": {
      "text/html": [
       "<div>\n",
       "<style scoped>\n",
       "    .dataframe tbody tr th:only-of-type {\n",
       "        vertical-align: middle;\n",
       "    }\n",
       "\n",
       "    .dataframe tbody tr th {\n",
       "        vertical-align: top;\n",
       "    }\n",
       "\n",
       "    .dataframe thead th {\n",
       "        text-align: right;\n",
       "    }\n",
       "</style>\n",
       "<table border=\"1\" class=\"dataframe\">\n",
       "  <thead>\n",
       "    <tr style=\"text-align: right;\">\n",
       "      <th></th>\n",
       "      <th>sex</th>\n",
       "      <th>IDH</th>\n",
       "      <th>x1p19q</th>\n",
       "      <th>TERT</th>\n",
       "      <th>MGMT</th>\n",
       "      <th>Age</th>\n",
       "      <th>Survival_months</th>\n",
       "      <th>Vital_status</th>\n",
       "      <th>EGFR_re</th>\n",
       "      <th>CDKN2A_re</th>\n",
       "      <th>...</th>\n",
       "      <th>ENSG00000284649</th>\n",
       "      <th>ENSG00000284671</th>\n",
       "      <th>ENSG00000284680</th>\n",
       "      <th>ENSG00000284684</th>\n",
       "      <th>ENSG00000284691</th>\n",
       "      <th>ENSG00000284701</th>\n",
       "      <th>ENSG00000284723</th>\n",
       "      <th>ENSG00000284733,ENSG00000284662</th>\n",
       "      <th>ENSG00000284741</th>\n",
       "      <th>NA</th>\n",
       "    </tr>\n",
       "    <tr>\n",
       "      <th>IID</th>\n",
       "      <th></th>\n",
       "      <th></th>\n",
       "      <th></th>\n",
       "      <th></th>\n",
       "      <th></th>\n",
       "      <th></th>\n",
       "      <th></th>\n",
       "      <th></th>\n",
       "      <th></th>\n",
       "      <th></th>\n",
       "      <th></th>\n",
       "      <th></th>\n",
       "      <th></th>\n",
       "      <th></th>\n",
       "      <th></th>\n",
       "      <th></th>\n",
       "      <th></th>\n",
       "      <th></th>\n",
       "      <th></th>\n",
       "      <th></th>\n",
       "      <th></th>\n",
       "    </tr>\n",
       "  </thead>\n",
       "  <tbody>\n",
       "    <tr>\n",
       "      <th>02-0047</th>\n",
       "      <td>male</td>\n",
       "      <td>WT</td>\n",
       "      <td>non-codel</td>\n",
       "      <td>NaN</td>\n",
       "      <td>Unmethylated</td>\n",
       "      <td>78</td>\n",
       "      <td>14.718995</td>\n",
       "      <td>1</td>\n",
       "      <td>Wildtype</td>\n",
       "      <td>Deleted</td>\n",
       "      <td>...</td>\n",
       "      <td>7.766</td>\n",
       "      <td>9.993</td>\n",
       "      <td>0</td>\n",
       "      <td>0.0</td>\n",
       "      <td>47.574</td>\n",
       "      <td>0</td>\n",
       "      <td>1</td>\n",
       "      <td>0.0</td>\n",
       "      <td>0.0</td>\n",
       "      <td>569.221</td>\n",
       "    </tr>\n",
       "    <tr>\n",
       "      <th>02-0055</th>\n",
       "      <td>female</td>\n",
       "      <td>WT</td>\n",
       "      <td>non-codel</td>\n",
       "      <td>NaN</td>\n",
       "      <td>Unmethylated</td>\n",
       "      <td>62</td>\n",
       "      <td>2.496972</td>\n",
       "      <td>1</td>\n",
       "      <td>Amplified</td>\n",
       "      <td>Wildtype</td>\n",
       "      <td>...</td>\n",
       "      <td>10.742</td>\n",
       "      <td>0.000</td>\n",
       "      <td>0</td>\n",
       "      <td>0.0</td>\n",
       "      <td>25.980</td>\n",
       "      <td>0</td>\n",
       "      <td>0</td>\n",
       "      <td>0.0</td>\n",
       "      <td>0.0</td>\n",
       "      <td>491.114</td>\n",
       "    </tr>\n",
       "    <tr>\n",
       "      <th>02-2485</th>\n",
       "      <td>male</td>\n",
       "      <td>WT</td>\n",
       "      <td>non-codel</td>\n",
       "      <td>Mutant</td>\n",
       "      <td>Unmethylated</td>\n",
       "      <td>53</td>\n",
       "      <td>15.441803</td>\n",
       "      <td>0</td>\n",
       "      <td>Amplified</td>\n",
       "      <td>Wildtype</td>\n",
       "      <td>...</td>\n",
       "      <td>5.379</td>\n",
       "      <td>0.000</td>\n",
       "      <td>0</td>\n",
       "      <td>0.0</td>\n",
       "      <td>69.000</td>\n",
       "      <td>0</td>\n",
       "      <td>1</td>\n",
       "      <td>0.0</td>\n",
       "      <td>0.0</td>\n",
       "      <td>717.150</td>\n",
       "    </tr>\n",
       "    <tr>\n",
       "      <th>02-2486</th>\n",
       "      <td>male</td>\n",
       "      <td>WT</td>\n",
       "      <td>non-codel</td>\n",
       "      <td>NaN</td>\n",
       "      <td>Unmethylated</td>\n",
       "      <td>64</td>\n",
       "      <td>16.197466</td>\n",
       "      <td>0</td>\n",
       "      <td>Amplified</td>\n",
       "      <td>Deleted</td>\n",
       "      <td>...</td>\n",
       "      <td>2.037</td>\n",
       "      <td>4.746</td>\n",
       "      <td>0</td>\n",
       "      <td>0.0</td>\n",
       "      <td>49.948</td>\n",
       "      <td>0</td>\n",
       "      <td>0</td>\n",
       "      <td>0.0</td>\n",
       "      <td>0.0</td>\n",
       "      <td>274.183</td>\n",
       "    </tr>\n",
       "    <tr>\n",
       "      <th>06-0125</th>\n",
       "      <td>female</td>\n",
       "      <td>WT</td>\n",
       "      <td>non-codel</td>\n",
       "      <td>Mutant</td>\n",
       "      <td>Methylated</td>\n",
       "      <td>63</td>\n",
       "      <td>47.573895</td>\n",
       "      <td>1</td>\n",
       "      <td>Amplified</td>\n",
       "      <td>Deleted</td>\n",
       "      <td>...</td>\n",
       "      <td>8.879</td>\n",
       "      <td>4.237</td>\n",
       "      <td>0</td>\n",
       "      <td>0.0</td>\n",
       "      <td>122.020</td>\n",
       "      <td>0</td>\n",
       "      <td>1</td>\n",
       "      <td>4.0</td>\n",
       "      <td>0.0</td>\n",
       "      <td>657.634</td>\n",
       "    </tr>\n",
       "  </tbody>\n",
       "</table>\n",
       "<p>5 rows × 55672 columns</p>\n",
       "</div>"
      ],
      "text/plain": [
       "            sex IDH     x1p19q    TERT          MGMT  Age  Survival_months  \\\n",
       "IID                                                                          \n",
       "02-0047    male  WT  non-codel     NaN  Unmethylated   78        14.718995   \n",
       "02-0055  female  WT  non-codel     NaN  Unmethylated   62         2.496972   \n",
       "02-2485    male  WT  non-codel  Mutant  Unmethylated   53        15.441803   \n",
       "02-2486    male  WT  non-codel     NaN  Unmethylated   64        16.197466   \n",
       "06-0125  female  WT  non-codel  Mutant    Methylated   63        47.573895   \n",
       "\n",
       "         Vital_status    EGFR_re CDKN2A_re  ...  ENSG00000284649  \\\n",
       "IID                                         ...                    \n",
       "02-0047             1   Wildtype   Deleted  ...            7.766   \n",
       "02-0055             1  Amplified  Wildtype  ...           10.742   \n",
       "02-2485             0  Amplified  Wildtype  ...            5.379   \n",
       "02-2486             0  Amplified   Deleted  ...            2.037   \n",
       "06-0125             1  Amplified   Deleted  ...            8.879   \n",
       "\n",
       "         ENSG00000284671  ENSG00000284680  ENSG00000284684  ENSG00000284691  \\\n",
       "IID                                                                           \n",
       "02-0047            9.993                0              0.0           47.574   \n",
       "02-0055            0.000                0              0.0           25.980   \n",
       "02-2485            0.000                0              0.0           69.000   \n",
       "02-2486            4.746                0              0.0           49.948   \n",
       "06-0125            4.237                0              0.0          122.020   \n",
       "\n",
       "         ENSG00000284701  ENSG00000284723  ENSG00000284733,ENSG00000284662  \\\n",
       "IID                                                                          \n",
       "02-0047                0                1                              0.0   \n",
       "02-0055                0                0                              0.0   \n",
       "02-2485                0                1                              0.0   \n",
       "02-2486                0                0                              0.0   \n",
       "06-0125                0                1                              4.0   \n",
       "\n",
       "         ENSG00000284741       NA  \n",
       "IID                                \n",
       "02-0047              0.0  569.221  \n",
       "02-0055              0.0  491.114  \n",
       "02-2485              0.0  717.150  \n",
       "02-2486              0.0  274.183  \n",
       "06-0125              0.0  657.634  \n",
       "\n",
       "[5 rows x 55672 columns]"
      ]
     },
     "execution_count": 4,
     "metadata": {},
     "output_type": "execute_result"
    }
   ],
   "source": [
    "current_path='../data/our/'\n",
    "output_path=current_path+'/GENE_2_counts_normalized.subject_unique.metadata.all.tsv'\n",
    "df_exp=pd.read_csv(output_path,index_col=0,sep=\"\\t\",low_memory=False)\n",
    "df_exp.head()"
   ]
  },
  {
   "cell_type": "code",
   "execution_count": 5,
   "id": "ec4daef9",
   "metadata": {},
   "outputs": [
    {
     "data": {
      "text/html": [
       "<div>\n",
       "<style scoped>\n",
       "    .dataframe tbody tr th:only-of-type {\n",
       "        vertical-align: middle;\n",
       "    }\n",
       "\n",
       "    .dataframe tbody tr th {\n",
       "        vertical-align: top;\n",
       "    }\n",
       "\n",
       "    .dataframe thead th {\n",
       "        text-align: right;\n",
       "    }\n",
       "</style>\n",
       "<table border=\"1\" class=\"dataframe\">\n",
       "  <thead>\n",
       "    <tr style=\"text-align: right;\">\n",
       "      <th></th>\n",
       "      <th>sex</th>\n",
       "      <th>Age</th>\n",
       "      <th>Survival_months</th>\n",
       "      <th>Vital_status</th>\n",
       "      <th>EGFR_re</th>\n",
       "      <th>CDKN2A_re</th>\n",
       "      <th>ENSG00000000003</th>\n",
       "      <th>ENSG00000000005</th>\n",
       "      <th>ENSG00000000419</th>\n",
       "      <th>ENSG00000000457</th>\n",
       "      <th>...</th>\n",
       "      <th>ENSG00000284649</th>\n",
       "      <th>ENSG00000284671</th>\n",
       "      <th>ENSG00000284680</th>\n",
       "      <th>ENSG00000284684</th>\n",
       "      <th>ENSG00000284691</th>\n",
       "      <th>ENSG00000284701</th>\n",
       "      <th>ENSG00000284723</th>\n",
       "      <th>ENSG00000284733,ENSG00000284662</th>\n",
       "      <th>ENSG00000284741</th>\n",
       "      <th>NA</th>\n",
       "    </tr>\n",
       "    <tr>\n",
       "      <th>IID</th>\n",
       "      <th></th>\n",
       "      <th></th>\n",
       "      <th></th>\n",
       "      <th></th>\n",
       "      <th></th>\n",
       "      <th></th>\n",
       "      <th></th>\n",
       "      <th></th>\n",
       "      <th></th>\n",
       "      <th></th>\n",
       "      <th></th>\n",
       "      <th></th>\n",
       "      <th></th>\n",
       "      <th></th>\n",
       "      <th></th>\n",
       "      <th></th>\n",
       "      <th></th>\n",
       "      <th></th>\n",
       "      <th></th>\n",
       "      <th></th>\n",
       "      <th></th>\n",
       "    </tr>\n",
       "  </thead>\n",
       "  <tbody>\n",
       "    <tr>\n",
       "      <th>02-0047</th>\n",
       "      <td>male</td>\n",
       "      <td>78</td>\n",
       "      <td>14.718995</td>\n",
       "      <td>1</td>\n",
       "      <td>Wildtype</td>\n",
       "      <td>Deleted</td>\n",
       "      <td>2350.460</td>\n",
       "      <td>1.000</td>\n",
       "      <td>633.000</td>\n",
       "      <td>439.035</td>\n",
       "      <td>...</td>\n",
       "      <td>7.766</td>\n",
       "      <td>9.993</td>\n",
       "      <td>0</td>\n",
       "      <td>0.0</td>\n",
       "      <td>47.574</td>\n",
       "      <td>0</td>\n",
       "      <td>1</td>\n",
       "      <td>0.0</td>\n",
       "      <td>0.0</td>\n",
       "      <td>569.221</td>\n",
       "    </tr>\n",
       "    <tr>\n",
       "      <th>02-0055</th>\n",
       "      <td>female</td>\n",
       "      <td>62</td>\n",
       "      <td>2.496972</td>\n",
       "      <td>1</td>\n",
       "      <td>Amplified</td>\n",
       "      <td>Wildtype</td>\n",
       "      <td>2893.011</td>\n",
       "      <td>825.001</td>\n",
       "      <td>2382.838</td>\n",
       "      <td>569.035</td>\n",
       "      <td>...</td>\n",
       "      <td>10.742</td>\n",
       "      <td>0.000</td>\n",
       "      <td>0</td>\n",
       "      <td>0.0</td>\n",
       "      <td>25.980</td>\n",
       "      <td>0</td>\n",
       "      <td>0</td>\n",
       "      <td>0.0</td>\n",
       "      <td>0.0</td>\n",
       "      <td>491.114</td>\n",
       "    </tr>\n",
       "    <tr>\n",
       "      <th>02-2485</th>\n",
       "      <td>male</td>\n",
       "      <td>53</td>\n",
       "      <td>15.441803</td>\n",
       "      <td>0</td>\n",
       "      <td>Amplified</td>\n",
       "      <td>Wildtype</td>\n",
       "      <td>4940.435</td>\n",
       "      <td>5.000</td>\n",
       "      <td>1128.869</td>\n",
       "      <td>695.463</td>\n",
       "      <td>...</td>\n",
       "      <td>5.379</td>\n",
       "      <td>0.000</td>\n",
       "      <td>0</td>\n",
       "      <td>0.0</td>\n",
       "      <td>69.000</td>\n",
       "      <td>0</td>\n",
       "      <td>1</td>\n",
       "      <td>0.0</td>\n",
       "      <td>0.0</td>\n",
       "      <td>717.150</td>\n",
       "    </tr>\n",
       "    <tr>\n",
       "      <th>02-2486</th>\n",
       "      <td>male</td>\n",
       "      <td>64</td>\n",
       "      <td>16.197466</td>\n",
       "      <td>0</td>\n",
       "      <td>Amplified</td>\n",
       "      <td>Deleted</td>\n",
       "      <td>4338.707</td>\n",
       "      <td>7.000</td>\n",
       "      <td>1089.000</td>\n",
       "      <td>588.688</td>\n",
       "      <td>...</td>\n",
       "      <td>2.037</td>\n",
       "      <td>4.746</td>\n",
       "      <td>0</td>\n",
       "      <td>0.0</td>\n",
       "      <td>49.948</td>\n",
       "      <td>0</td>\n",
       "      <td>0</td>\n",
       "      <td>0.0</td>\n",
       "      <td>0.0</td>\n",
       "      <td>274.183</td>\n",
       "    </tr>\n",
       "    <tr>\n",
       "      <th>06-0125</th>\n",
       "      <td>female</td>\n",
       "      <td>63</td>\n",
       "      <td>47.573895</td>\n",
       "      <td>1</td>\n",
       "      <td>Amplified</td>\n",
       "      <td>Deleted</td>\n",
       "      <td>3621.526</td>\n",
       "      <td>6.000</td>\n",
       "      <td>1226.225</td>\n",
       "      <td>632.096</td>\n",
       "      <td>...</td>\n",
       "      <td>8.879</td>\n",
       "      <td>4.237</td>\n",
       "      <td>0</td>\n",
       "      <td>0.0</td>\n",
       "      <td>122.020</td>\n",
       "      <td>0</td>\n",
       "      <td>1</td>\n",
       "      <td>4.0</td>\n",
       "      <td>0.0</td>\n",
       "      <td>657.634</td>\n",
       "    </tr>\n",
       "  </tbody>\n",
       "</table>\n",
       "<p>5 rows × 55668 columns</p>\n",
       "</div>"
      ],
      "text/plain": [
       "            sex  Age  Survival_months  Vital_status    EGFR_re CDKN2A_re  \\\n",
       "IID                                                                        \n",
       "02-0047    male   78        14.718995             1   Wildtype   Deleted   \n",
       "02-0055  female   62         2.496972             1  Amplified  Wildtype   \n",
       "02-2485    male   53        15.441803             0  Amplified  Wildtype   \n",
       "02-2486    male   64        16.197466             0  Amplified   Deleted   \n",
       "06-0125  female   63        47.573895             1  Amplified   Deleted   \n",
       "\n",
       "         ENSG00000000003  ENSG00000000005  ENSG00000000419  ENSG00000000457  \\\n",
       "IID                                                                           \n",
       "02-0047         2350.460            1.000          633.000          439.035   \n",
       "02-0055         2893.011          825.001         2382.838          569.035   \n",
       "02-2485         4940.435            5.000         1128.869          695.463   \n",
       "02-2486         4338.707            7.000         1089.000          588.688   \n",
       "06-0125         3621.526            6.000         1226.225          632.096   \n",
       "\n",
       "         ...  ENSG00000284649  ENSG00000284671  ENSG00000284680  \\\n",
       "IID      ...                                                      \n",
       "02-0047  ...            7.766            9.993                0   \n",
       "02-0055  ...           10.742            0.000                0   \n",
       "02-2485  ...            5.379            0.000                0   \n",
       "02-2486  ...            2.037            4.746                0   \n",
       "06-0125  ...            8.879            4.237                0   \n",
       "\n",
       "         ENSG00000284684  ENSG00000284691  ENSG00000284701  ENSG00000284723  \\\n",
       "IID                                                                           \n",
       "02-0047              0.0           47.574                0                1   \n",
       "02-0055              0.0           25.980                0                0   \n",
       "02-2485              0.0           69.000                0                1   \n",
       "02-2486              0.0           49.948                0                0   \n",
       "06-0125              0.0          122.020                0                1   \n",
       "\n",
       "         ENSG00000284733,ENSG00000284662  ENSG00000284741       NA  \n",
       "IID                                                                 \n",
       "02-0047                              0.0              0.0  569.221  \n",
       "02-0055                              0.0              0.0  491.114  \n",
       "02-2485                              0.0              0.0  717.150  \n",
       "02-2486                              0.0              0.0  274.183  \n",
       "06-0125                              4.0              0.0  657.634  \n",
       "\n",
       "[5 rows x 55668 columns]"
      ]
     },
     "execution_count": 5,
     "metadata": {},
     "output_type": "execute_result"
    }
   ],
   "source": [
    "df_exp.drop(columns=['IDH','x1p19q','TERT','MGMT'],inplace=True)\n",
    "df_exp.head()"
   ]
  },
  {
   "cell_type": "code",
   "execution_count": 6,
   "id": "11ba19e7",
   "metadata": {},
   "outputs": [
    {
     "data": {
      "text/html": [
       "<div>\n",
       "<style scoped>\n",
       "    .dataframe tbody tr th:only-of-type {\n",
       "        vertical-align: middle;\n",
       "    }\n",
       "\n",
       "    .dataframe tbody tr th {\n",
       "        vertical-align: top;\n",
       "    }\n",
       "\n",
       "    .dataframe thead th {\n",
       "        text-align: right;\n",
       "    }\n",
       "</style>\n",
       "<table border=\"1\" class=\"dataframe\">\n",
       "  <thead>\n",
       "    <tr style=\"text-align: right;\">\n",
       "      <th></th>\n",
       "      <th>sex</th>\n",
       "      <th>Age</th>\n",
       "      <th>Survival_months</th>\n",
       "      <th>Vital_status</th>\n",
       "      <th>EGFR_re</th>\n",
       "      <th>CDKN2A_re</th>\n",
       "      <th>ENSG00000000003</th>\n",
       "      <th>ENSG00000000005</th>\n",
       "      <th>ENSG00000000419</th>\n",
       "      <th>ENSG00000000457</th>\n",
       "      <th>...</th>\n",
       "      <th>ENSG00000284649</th>\n",
       "      <th>ENSG00000284671</th>\n",
       "      <th>ENSG00000284680</th>\n",
       "      <th>ENSG00000284684</th>\n",
       "      <th>ENSG00000284691</th>\n",
       "      <th>ENSG00000284701</th>\n",
       "      <th>ENSG00000284723</th>\n",
       "      <th>ENSG00000284733,ENSG00000284662</th>\n",
       "      <th>ENSG00000284741</th>\n",
       "      <th>NA</th>\n",
       "    </tr>\n",
       "    <tr>\n",
       "      <th>IID</th>\n",
       "      <th></th>\n",
       "      <th></th>\n",
       "      <th></th>\n",
       "      <th></th>\n",
       "      <th></th>\n",
       "      <th></th>\n",
       "      <th></th>\n",
       "      <th></th>\n",
       "      <th></th>\n",
       "      <th></th>\n",
       "      <th></th>\n",
       "      <th></th>\n",
       "      <th></th>\n",
       "      <th></th>\n",
       "      <th></th>\n",
       "      <th></th>\n",
       "      <th></th>\n",
       "      <th></th>\n",
       "      <th></th>\n",
       "      <th></th>\n",
       "      <th></th>\n",
       "    </tr>\n",
       "  </thead>\n",
       "  <tbody>\n",
       "    <tr>\n",
       "      <th>02-0047</th>\n",
       "      <td>1</td>\n",
       "      <td>78</td>\n",
       "      <td>14.718995</td>\n",
       "      <td>1</td>\n",
       "      <td>0</td>\n",
       "      <td>2</td>\n",
       "      <td>2350.460</td>\n",
       "      <td>1.000</td>\n",
       "      <td>633.000</td>\n",
       "      <td>439.035</td>\n",
       "      <td>...</td>\n",
       "      <td>7.766</td>\n",
       "      <td>9.993</td>\n",
       "      <td>0</td>\n",
       "      <td>0.0</td>\n",
       "      <td>47.574</td>\n",
       "      <td>0</td>\n",
       "      <td>1</td>\n",
       "      <td>0.0</td>\n",
       "      <td>0.0</td>\n",
       "      <td>569.221</td>\n",
       "    </tr>\n",
       "    <tr>\n",
       "      <th>02-0055</th>\n",
       "      <td>0</td>\n",
       "      <td>62</td>\n",
       "      <td>2.496972</td>\n",
       "      <td>1</td>\n",
       "      <td>1</td>\n",
       "      <td>0</td>\n",
       "      <td>2893.011</td>\n",
       "      <td>825.001</td>\n",
       "      <td>2382.838</td>\n",
       "      <td>569.035</td>\n",
       "      <td>...</td>\n",
       "      <td>10.742</td>\n",
       "      <td>0.000</td>\n",
       "      <td>0</td>\n",
       "      <td>0.0</td>\n",
       "      <td>25.980</td>\n",
       "      <td>0</td>\n",
       "      <td>0</td>\n",
       "      <td>0.0</td>\n",
       "      <td>0.0</td>\n",
       "      <td>491.114</td>\n",
       "    </tr>\n",
       "    <tr>\n",
       "      <th>02-2485</th>\n",
       "      <td>1</td>\n",
       "      <td>53</td>\n",
       "      <td>15.441803</td>\n",
       "      <td>0</td>\n",
       "      <td>1</td>\n",
       "      <td>0</td>\n",
       "      <td>4940.435</td>\n",
       "      <td>5.000</td>\n",
       "      <td>1128.869</td>\n",
       "      <td>695.463</td>\n",
       "      <td>...</td>\n",
       "      <td>5.379</td>\n",
       "      <td>0.000</td>\n",
       "      <td>0</td>\n",
       "      <td>0.0</td>\n",
       "      <td>69.000</td>\n",
       "      <td>0</td>\n",
       "      <td>1</td>\n",
       "      <td>0.0</td>\n",
       "      <td>0.0</td>\n",
       "      <td>717.150</td>\n",
       "    </tr>\n",
       "    <tr>\n",
       "      <th>02-2486</th>\n",
       "      <td>1</td>\n",
       "      <td>64</td>\n",
       "      <td>16.197466</td>\n",
       "      <td>0</td>\n",
       "      <td>1</td>\n",
       "      <td>2</td>\n",
       "      <td>4338.707</td>\n",
       "      <td>7.000</td>\n",
       "      <td>1089.000</td>\n",
       "      <td>588.688</td>\n",
       "      <td>...</td>\n",
       "      <td>2.037</td>\n",
       "      <td>4.746</td>\n",
       "      <td>0</td>\n",
       "      <td>0.0</td>\n",
       "      <td>49.948</td>\n",
       "      <td>0</td>\n",
       "      <td>0</td>\n",
       "      <td>0.0</td>\n",
       "      <td>0.0</td>\n",
       "      <td>274.183</td>\n",
       "    </tr>\n",
       "    <tr>\n",
       "      <th>06-0125</th>\n",
       "      <td>0</td>\n",
       "      <td>63</td>\n",
       "      <td>47.573895</td>\n",
       "      <td>1</td>\n",
       "      <td>1</td>\n",
       "      <td>2</td>\n",
       "      <td>3621.526</td>\n",
       "      <td>6.000</td>\n",
       "      <td>1226.225</td>\n",
       "      <td>632.096</td>\n",
       "      <td>...</td>\n",
       "      <td>8.879</td>\n",
       "      <td>4.237</td>\n",
       "      <td>0</td>\n",
       "      <td>0.0</td>\n",
       "      <td>122.020</td>\n",
       "      <td>0</td>\n",
       "      <td>1</td>\n",
       "      <td>4.0</td>\n",
       "      <td>0.0</td>\n",
       "      <td>657.634</td>\n",
       "    </tr>\n",
       "  </tbody>\n",
       "</table>\n",
       "<p>5 rows × 55668 columns</p>\n",
       "</div>"
      ],
      "text/plain": [
       "         sex  Age  Survival_months  Vital_status  EGFR_re  CDKN2A_re  \\\n",
       "IID                                                                    \n",
       "02-0047    1   78        14.718995             1        0          2   \n",
       "02-0055    0   62         2.496972             1        1          0   \n",
       "02-2485    1   53        15.441803             0        1          0   \n",
       "02-2486    1   64        16.197466             0        1          2   \n",
       "06-0125    0   63        47.573895             1        1          2   \n",
       "\n",
       "         ENSG00000000003  ENSG00000000005  ENSG00000000419  ENSG00000000457  \\\n",
       "IID                                                                           \n",
       "02-0047         2350.460            1.000          633.000          439.035   \n",
       "02-0055         2893.011          825.001         2382.838          569.035   \n",
       "02-2485         4940.435            5.000         1128.869          695.463   \n",
       "02-2486         4338.707            7.000         1089.000          588.688   \n",
       "06-0125         3621.526            6.000         1226.225          632.096   \n",
       "\n",
       "         ...  ENSG00000284649  ENSG00000284671  ENSG00000284680  \\\n",
       "IID      ...                                                      \n",
       "02-0047  ...            7.766            9.993                0   \n",
       "02-0055  ...           10.742            0.000                0   \n",
       "02-2485  ...            5.379            0.000                0   \n",
       "02-2486  ...            2.037            4.746                0   \n",
       "06-0125  ...            8.879            4.237                0   \n",
       "\n",
       "         ENSG00000284684  ENSG00000284691  ENSG00000284701  ENSG00000284723  \\\n",
       "IID                                                                           \n",
       "02-0047              0.0           47.574                0                1   \n",
       "02-0055              0.0           25.980                0                0   \n",
       "02-2485              0.0           69.000                0                1   \n",
       "02-2486              0.0           49.948                0                0   \n",
       "06-0125              0.0          122.020                0                1   \n",
       "\n",
       "         ENSG00000284733,ENSG00000284662  ENSG00000284741       NA  \n",
       "IID                                                                 \n",
       "02-0047                              0.0              0.0  569.221  \n",
       "02-0055                              0.0              0.0  491.114  \n",
       "02-2485                              0.0              0.0  717.150  \n",
       "02-2486                              0.0              0.0  274.183  \n",
       "06-0125                              4.0              0.0  657.634  \n",
       "\n",
       "[5 rows x 55668 columns]"
      ]
     },
     "execution_count": 6,
     "metadata": {},
     "output_type": "execute_result"
    }
   ],
   "source": [
    "if 'sex' in df_exp.columns:\n",
    "    df_exp['sex'].replace(to_replace={'female':0, 'male':1}, inplace=True)\n",
    "if 'MGMT' in df_exp.columns:\n",
    "    df_exp['MGMT'].replace(to_replace={'Unmethylated':0, 'Methylated':1}, inplace=True)\n",
    "if 'EGFR_re' in df_exp.columns:\n",
    "    df_exp['EGFR_re'].replace(to_replace={\"Wildtype\":0, \"Amplified\":1}, inplace=True)\n",
    "if 'CDKN2A_re' in df_exp.columns:\n",
    "    df_exp['CDKN2A_re'].replace(to_replace={\"Wildtype\":0, \"Amplified\":1, \"Deleted\":2}, inplace=True)\n",
    "\n",
    "df_exp.head()"
   ]
  },
  {
   "cell_type": "code",
   "execution_count": 7,
   "id": "fadd8d94",
   "metadata": {},
   "outputs": [],
   "source": [
    "#df_exp.replace([np.inf, -np.inf], np.nan, inplace=True) \n",
    "X=df_exp.dropna(axis=0)  #,subset = [\"Vital_status\", \"Survival_months\"])\n",
    "E=np.array(X.pop(\"Vital_status\"))\n",
    "Y=np.array(X.pop(\"Survival_months\")).astype('float32')"
   ]
  },
  {
   "cell_type": "code",
   "execution_count": null,
   "id": "75a1894e",
   "metadata": {},
   "outputs": [],
   "source": []
  },
  {
   "cell_type": "code",
   "execution_count": null,
   "id": "ea71eefb",
   "metadata": {},
   "outputs": [],
   "source": []
  },
  {
   "cell_type": "markdown",
   "id": "73f9c247",
   "metadata": {},
   "source": [
    "More than 10 columns and predicting returns nans?\n",
    "Doesn't matter if its 0:9 or 10:19\n",
    "\n",
    "For some reason this isn't entirely true."
   ]
  },
  {
   "cell_type": "code",
   "execution_count": 8,
   "id": "10339a5e",
   "metadata": {},
   "outputs": [],
   "source": [
    "#X=X.iloc[:,0:4]\n",
    "#X=X.iloc[:,0:11]"
   ]
  },
  {
   "cell_type": "code",
   "execution_count": 9,
   "id": "59758aee",
   "metadata": {},
   "outputs": [
    {
     "data": {
      "text/html": [
       "<div>\n",
       "<style scoped>\n",
       "    .dataframe tbody tr th:only-of-type {\n",
       "        vertical-align: middle;\n",
       "    }\n",
       "\n",
       "    .dataframe tbody tr th {\n",
       "        vertical-align: top;\n",
       "    }\n",
       "\n",
       "    .dataframe thead th {\n",
       "        text-align: right;\n",
       "    }\n",
       "</style>\n",
       "<table border=\"1\" class=\"dataframe\">\n",
       "  <thead>\n",
       "    <tr style=\"text-align: right;\">\n",
       "      <th></th>\n",
       "      <th>sex</th>\n",
       "      <th>Age</th>\n",
       "      <th>EGFR_re</th>\n",
       "      <th>CDKN2A_re</th>\n",
       "      <th>ENSG00000000003</th>\n",
       "      <th>ENSG00000000005</th>\n",
       "      <th>ENSG00000000419</th>\n",
       "      <th>ENSG00000000457</th>\n",
       "      <th>ENSG00000000460</th>\n",
       "      <th>ENSG00000000938</th>\n",
       "      <th>...</th>\n",
       "      <th>ENSG00000284649</th>\n",
       "      <th>ENSG00000284671</th>\n",
       "      <th>ENSG00000284680</th>\n",
       "      <th>ENSG00000284684</th>\n",
       "      <th>ENSG00000284691</th>\n",
       "      <th>ENSG00000284701</th>\n",
       "      <th>ENSG00000284723</th>\n",
       "      <th>ENSG00000284733,ENSG00000284662</th>\n",
       "      <th>ENSG00000284741</th>\n",
       "      <th>NA</th>\n",
       "    </tr>\n",
       "    <tr>\n",
       "      <th>IID</th>\n",
       "      <th></th>\n",
       "      <th></th>\n",
       "      <th></th>\n",
       "      <th></th>\n",
       "      <th></th>\n",
       "      <th></th>\n",
       "      <th></th>\n",
       "      <th></th>\n",
       "      <th></th>\n",
       "      <th></th>\n",
       "      <th></th>\n",
       "      <th></th>\n",
       "      <th></th>\n",
       "      <th></th>\n",
       "      <th></th>\n",
       "      <th></th>\n",
       "      <th></th>\n",
       "      <th></th>\n",
       "      <th></th>\n",
       "      <th></th>\n",
       "      <th></th>\n",
       "    </tr>\n",
       "  </thead>\n",
       "  <tbody>\n",
       "    <tr>\n",
       "      <th>02-0047</th>\n",
       "      <td>1</td>\n",
       "      <td>78</td>\n",
       "      <td>0</td>\n",
       "      <td>2</td>\n",
       "      <td>2350.460</td>\n",
       "      <td>1.000</td>\n",
       "      <td>633.000</td>\n",
       "      <td>439.035</td>\n",
       "      <td>304.000</td>\n",
       "      <td>534.288</td>\n",
       "      <td>...</td>\n",
       "      <td>7.766</td>\n",
       "      <td>9.993</td>\n",
       "      <td>0</td>\n",
       "      <td>0.0</td>\n",
       "      <td>47.574</td>\n",
       "      <td>0</td>\n",
       "      <td>1</td>\n",
       "      <td>0.0</td>\n",
       "      <td>0.0</td>\n",
       "      <td>569.221</td>\n",
       "    </tr>\n",
       "    <tr>\n",
       "      <th>02-0055</th>\n",
       "      <td>0</td>\n",
       "      <td>62</td>\n",
       "      <td>1</td>\n",
       "      <td>0</td>\n",
       "      <td>2893.011</td>\n",
       "      <td>825.001</td>\n",
       "      <td>2382.838</td>\n",
       "      <td>569.035</td>\n",
       "      <td>497.997</td>\n",
       "      <td>1123.424</td>\n",
       "      <td>...</td>\n",
       "      <td>10.742</td>\n",
       "      <td>0.000</td>\n",
       "      <td>0</td>\n",
       "      <td>0.0</td>\n",
       "      <td>25.980</td>\n",
       "      <td>0</td>\n",
       "      <td>0</td>\n",
       "      <td>0.0</td>\n",
       "      <td>0.0</td>\n",
       "      <td>491.114</td>\n",
       "    </tr>\n",
       "    <tr>\n",
       "      <th>02-2485</th>\n",
       "      <td>1</td>\n",
       "      <td>53</td>\n",
       "      <td>1</td>\n",
       "      <td>0</td>\n",
       "      <td>4940.435</td>\n",
       "      <td>5.000</td>\n",
       "      <td>1128.869</td>\n",
       "      <td>695.463</td>\n",
       "      <td>743.572</td>\n",
       "      <td>503.997</td>\n",
       "      <td>...</td>\n",
       "      <td>5.379</td>\n",
       "      <td>0.000</td>\n",
       "      <td>0</td>\n",
       "      <td>0.0</td>\n",
       "      <td>69.000</td>\n",
       "      <td>0</td>\n",
       "      <td>1</td>\n",
       "      <td>0.0</td>\n",
       "      <td>0.0</td>\n",
       "      <td>717.150</td>\n",
       "    </tr>\n",
       "    <tr>\n",
       "      <th>02-2486</th>\n",
       "      <td>1</td>\n",
       "      <td>64</td>\n",
       "      <td>1</td>\n",
       "      <td>2</td>\n",
       "      <td>4338.707</td>\n",
       "      <td>7.000</td>\n",
       "      <td>1089.000</td>\n",
       "      <td>588.688</td>\n",
       "      <td>276.264</td>\n",
       "      <td>827.419</td>\n",
       "      <td>...</td>\n",
       "      <td>2.037</td>\n",
       "      <td>4.746</td>\n",
       "      <td>0</td>\n",
       "      <td>0.0</td>\n",
       "      <td>49.948</td>\n",
       "      <td>0</td>\n",
       "      <td>0</td>\n",
       "      <td>0.0</td>\n",
       "      <td>0.0</td>\n",
       "      <td>274.183</td>\n",
       "    </tr>\n",
       "    <tr>\n",
       "      <th>06-0125</th>\n",
       "      <td>0</td>\n",
       "      <td>63</td>\n",
       "      <td>1</td>\n",
       "      <td>2</td>\n",
       "      <td>3621.526</td>\n",
       "      <td>6.000</td>\n",
       "      <td>1226.225</td>\n",
       "      <td>632.096</td>\n",
       "      <td>602.204</td>\n",
       "      <td>250.999</td>\n",
       "      <td>...</td>\n",
       "      <td>8.879</td>\n",
       "      <td>4.237</td>\n",
       "      <td>0</td>\n",
       "      <td>0.0</td>\n",
       "      <td>122.020</td>\n",
       "      <td>0</td>\n",
       "      <td>1</td>\n",
       "      <td>4.0</td>\n",
       "      <td>0.0</td>\n",
       "      <td>657.634</td>\n",
       "    </tr>\n",
       "  </tbody>\n",
       "</table>\n",
       "<p>5 rows × 55666 columns</p>\n",
       "</div>"
      ],
      "text/plain": [
       "         sex  Age  EGFR_re  CDKN2A_re  ENSG00000000003  ENSG00000000005  \\\n",
       "IID                                                                       \n",
       "02-0047    1   78        0          2         2350.460            1.000   \n",
       "02-0055    0   62        1          0         2893.011          825.001   \n",
       "02-2485    1   53        1          0         4940.435            5.000   \n",
       "02-2486    1   64        1          2         4338.707            7.000   \n",
       "06-0125    0   63        1          2         3621.526            6.000   \n",
       "\n",
       "         ENSG00000000419  ENSG00000000457  ENSG00000000460  ENSG00000000938  \\\n",
       "IID                                                                           \n",
       "02-0047          633.000          439.035          304.000          534.288   \n",
       "02-0055         2382.838          569.035          497.997         1123.424   \n",
       "02-2485         1128.869          695.463          743.572          503.997   \n",
       "02-2486         1089.000          588.688          276.264          827.419   \n",
       "06-0125         1226.225          632.096          602.204          250.999   \n",
       "\n",
       "         ...  ENSG00000284649  ENSG00000284671  ENSG00000284680  \\\n",
       "IID      ...                                                      \n",
       "02-0047  ...            7.766            9.993                0   \n",
       "02-0055  ...           10.742            0.000                0   \n",
       "02-2485  ...            5.379            0.000                0   \n",
       "02-2486  ...            2.037            4.746                0   \n",
       "06-0125  ...            8.879            4.237                0   \n",
       "\n",
       "         ENSG00000284684  ENSG00000284691  ENSG00000284701  ENSG00000284723  \\\n",
       "IID                                                                           \n",
       "02-0047              0.0           47.574                0                1   \n",
       "02-0055              0.0           25.980                0                0   \n",
       "02-2485              0.0           69.000                0                1   \n",
       "02-2486              0.0           49.948                0                0   \n",
       "06-0125              0.0          122.020                0                1   \n",
       "\n",
       "         ENSG00000284733,ENSG00000284662  ENSG00000284741       NA  \n",
       "IID                                                                 \n",
       "02-0047                              0.0              0.0  569.221  \n",
       "02-0055                              0.0              0.0  491.114  \n",
       "02-2485                              0.0              0.0  717.150  \n",
       "02-2486                              0.0              0.0  274.183  \n",
       "06-0125                              4.0              0.0  657.634  \n",
       "\n",
       "[5 rows x 55666 columns]"
      ]
     },
     "execution_count": 9,
     "metadata": {},
     "output_type": "execute_result"
    }
   ],
   "source": [
    "X.head()"
   ]
  },
  {
   "cell_type": "code",
   "execution_count": null,
   "id": "bdd875d1",
   "metadata": {},
   "outputs": [],
   "source": []
  },
  {
   "cell_type": "code",
   "execution_count": 10,
   "id": "f94af0e1",
   "metadata": {},
   "outputs": [
    {
     "data": {
      "text/plain": [
       "55666"
      ]
     },
     "execution_count": 10,
     "metadata": {},
     "output_type": "execute_result"
    }
   ],
   "source": [
    "len(X.columns)"
   ]
  },
  {
   "cell_type": "markdown",
   "id": "6049c4b0",
   "metadata": {},
   "source": [
    "Vital_status=1 is deceased"
   ]
  },
  {
   "cell_type": "code",
   "execution_count": 11,
   "id": "832f2d9a",
   "metadata": {},
   "outputs": [
    {
     "data": {
      "text/plain": [
       "array([1, 1, 0, 0, 1])"
      ]
     },
     "execution_count": 11,
     "metadata": {},
     "output_type": "execute_result"
    }
   ],
   "source": [
    "E[0:5]"
   ]
  },
  {
   "cell_type": "code",
   "execution_count": 12,
   "id": "d00bfa2a",
   "metadata": {},
   "outputs": [
    {
     "data": {
      "text/plain": [
       "array([14.718995 ,  2.4969723, 15.441803 , 16.197466 , 47.573895 ],\n",
       "      dtype=float32)"
      ]
     },
     "execution_count": 12,
     "metadata": {},
     "output_type": "execute_result"
    }
   ],
   "source": [
    "Y[0:5]"
   ]
  },
  {
   "cell_type": "code",
   "execution_count": 13,
   "id": "5ccde394",
   "metadata": {},
   "outputs": [
    {
     "data": {
      "text/plain": [
       "[14.718995, 2.4969723, -15.441803, -16.197466, 47.573895]"
      ]
     },
     "execution_count": 13,
     "metadata": {},
     "output_type": "execute_result"
    }
   ],
   "source": [
    "newY = [Y[i] if E[i]==1 else -Y[i] for i in range(len(E))]\n",
    "newY[0:5]"
   ]
  },
  {
   "cell_type": "code",
   "execution_count": null,
   "id": "0dfebacc",
   "metadata": {},
   "outputs": [],
   "source": []
  },
  {
   "cell_type": "code",
   "execution_count": 14,
   "id": "7b9b17d6",
   "metadata": {},
   "outputs": [],
   "source": [
    "from sklearn.preprocessing import StandardScaler"
   ]
  },
  {
   "cell_type": "code",
   "execution_count": 15,
   "id": "f331a206",
   "metadata": {},
   "outputs": [],
   "source": [
    "X=np.array(X).astype('float32')"
   ]
  },
  {
   "cell_type": "code",
   "execution_count": 16,
   "id": "9f2c3e08",
   "metadata": {},
   "outputs": [
    {
     "data": {
      "text/plain": [
       "array([[ 1., 78.,  0.,  2.],\n",
       "       [ 0., 62.,  1.,  0.],\n",
       "       [ 1., 53.,  1.,  0.],\n",
       "       [ 1., 64.,  1.,  2.]], dtype=float32)"
      ]
     },
     "execution_count": 16,
     "metadata": {},
     "output_type": "execute_result"
    }
   ],
   "source": [
    "X[0:4,0:4]"
   ]
  },
  {
   "cell_type": "code",
   "execution_count": 17,
   "id": "c8ca2665",
   "metadata": {},
   "outputs": [],
   "source": [
    "scaler=StandardScaler().fit(X)"
   ]
  },
  {
   "cell_type": "code",
   "execution_count": 18,
   "id": "5f2b95c3",
   "metadata": {},
   "outputs": [],
   "source": [
    "X=scaler.transform(X)"
   ]
  },
  {
   "cell_type": "code",
   "execution_count": 19,
   "id": "df259623",
   "metadata": {},
   "outputs": [
    {
     "data": {
      "text/plain": [
       "array([[ 0.8136165 ,  1.2230637 , -3.4801023 ,  0.50589174],\n",
       "       [-1.2290803 , -0.02108731,  0.28734788, -2.0895529 ],\n",
       "       [ 0.8136165 , -0.72092235,  0.28734788, -2.0895529 ],\n",
       "       [ 0.8136165 ,  0.13443157,  0.28734788,  0.50589174]],\n",
       "      dtype=float32)"
      ]
     },
     "execution_count": 19,
     "metadata": {},
     "output_type": "execute_result"
    }
   ],
   "source": [
    "X[0:4,0:4]"
   ]
  },
  {
   "cell_type": "code",
   "execution_count": null,
   "id": "58b59b12",
   "metadata": {},
   "outputs": [],
   "source": []
  },
  {
   "cell_type": "code",
   "execution_count": 20,
   "id": "5e4df3c3",
   "metadata": {},
   "outputs": [
    {
     "data": {
      "text/plain": [
       "-16.197466"
      ]
     },
     "execution_count": 20,
     "metadata": {},
     "output_type": "execute_result"
    }
   ],
   "source": [
    "min(newY)"
   ]
  },
  {
   "cell_type": "code",
   "execution_count": 21,
   "id": "e6a7d619",
   "metadata": {},
   "outputs": [
    {
     "data": {
      "text/plain": [
       "47.573895"
      ]
     },
     "execution_count": 21,
     "metadata": {},
     "output_type": "execute_result"
    }
   ],
   "source": [
    "max(newY)"
   ]
  },
  {
   "cell_type": "code",
   "execution_count": null,
   "id": "c927f860",
   "metadata": {},
   "outputs": [],
   "source": []
  },
  {
   "cell_type": "code",
   "execution_count": 22,
   "id": "abe6be3f",
   "metadata": {},
   "outputs": [],
   "source": [
    "from sklearn.model_selection import train_test_split"
   ]
  },
  {
   "cell_type": "code",
   "execution_count": 23,
   "id": "e0bc3b02",
   "metadata": {},
   "outputs": [],
   "source": [
    "x_train, x_test, y_train, y_test = train_test_split(X, newY, test_size=0.2)"
   ]
  },
  {
   "cell_type": "code",
   "execution_count": 24,
   "id": "4566309b",
   "metadata": {},
   "outputs": [],
   "source": [
    "x_train=np.array(x_train).astype('float32')"
   ]
  },
  {
   "cell_type": "code",
   "execution_count": 25,
   "id": "ba5ecdb6",
   "metadata": {},
   "outputs": [
    {
     "data": {
      "text/plain": [
       "numpy.ndarray"
      ]
     },
     "execution_count": 25,
     "metadata": {},
     "output_type": "execute_result"
    }
   ],
   "source": [
    "type(x_train)"
   ]
  },
  {
   "cell_type": "code",
   "execution_count": 26,
   "id": "e014dea6",
   "metadata": {},
   "outputs": [],
   "source": [
    "y_train=np.array(y_train).astype('float32')"
   ]
  },
  {
   "cell_type": "code",
   "execution_count": 27,
   "id": "e134bdc2",
   "metadata": {},
   "outputs": [
    {
     "data": {
      "text/plain": [
       "numpy.ndarray"
      ]
     },
     "execution_count": 27,
     "metadata": {},
     "output_type": "execute_result"
    }
   ],
   "source": [
    "type(y_train)"
   ]
  },
  {
   "cell_type": "code",
   "execution_count": null,
   "id": "a7b21ebc",
   "metadata": {},
   "outputs": [],
   "source": []
  },
  {
   "cell_type": "code",
   "execution_count": 28,
   "id": "e510849f",
   "metadata": {},
   "outputs": [
    {
     "data": {
      "text/plain": [
       "array([[ 0.8136165 , -0.02108731,  0.28734788,  0.50589174],\n",
       "       [ 0.8136165 ,  0.05667214,  0.28734788,  0.50589174],\n",
       "       [ 0.8136165 ,  0.912026  , -3.4801023 ,  0.50589174],\n",
       "       [ 0.8136165 , -0.25436562, -3.4801023 , -2.0895529 ]],\n",
       "      dtype=float32)"
      ]
     },
     "execution_count": 28,
     "metadata": {},
     "output_type": "execute_result"
    }
   ],
   "source": [
    "x_train[0:4,0:4]"
   ]
  },
  {
   "cell_type": "code",
   "execution_count": 29,
   "id": "5d7bcff0",
   "metadata": {},
   "outputs": [
    {
     "data": {
      "text/plain": [
       "array([[ 0.8136165 , -1.1097195 ,  0.28734788, -0.79183054],\n",
       "       [-1.2290803 , -1.187479  ,  0.28734788,  0.50589174],\n",
       "       [-1.2290803 ,  0.60098827,  0.28734788,  0.50589174],\n",
       "       [-1.2290803 ,  0.98978543,  0.28734788, -2.0895529 ]],\n",
       "      dtype=float32)"
      ]
     },
     "execution_count": 29,
     "metadata": {},
     "output_type": "execute_result"
    }
   ],
   "source": [
    "x_test[0:4,0:4]"
   ]
  },
  {
   "cell_type": "code",
   "execution_count": 30,
   "id": "009a86f9",
   "metadata": {
    "scrolled": false
   },
   "outputs": [
    {
     "data": {
      "image/png": "[encoded data removed]",
      "text/plain": [
       "<Figure size 640x480 with 1 Axes>"
      ]
     },
     "metadata": {},
     "output_type": "display_data"
    }
   ],
   "source": [
    "# Use all the data!\n",
    "#x_train = X\n",
    "#y_train = Y.copy()\n",
    "\n",
    "# Neg. wait time w/ still no observation\n",
    "#y_train[cix, 0] = t1[cix]-t_stop\n",
    "\n",
    "# Plot it\n",
    "plt.plot(newY, 'r.')\n",
    "plt.xlabel('Customer ID')\n",
    "plt.ylabel('Observed time to next purchase\\n'\n",
    "           'or neg time w/o repeat purchase')\n",
    "plt.show()"
   ]
  },
  {
   "cell_type": "code",
   "execution_count": 31,
   "id": "09fabe1a",
   "metadata": {},
   "outputs": [
    {
     "data": {
      "text/plain": [
       "55666"
      ]
     },
     "execution_count": 31,
     "metadata": {},
     "output_type": "execute_result"
    }
   ],
   "source": [
    "X.shape[1]"
   ]
  },
  {
   "cell_type": "code",
   "execution_count": 32,
   "id": "b46d0e1e",
   "metadata": {},
   "outputs": [],
   "source": [
    "model3 = CensoredSurvivalModel(X.shape[1])"
   ]
  },
  {
   "cell_type": "code",
   "execution_count": 33,
   "id": "52715d5c",
   "metadata": {},
   "outputs": [],
   "source": [
    "model3.fit(x_train, y_train, lr=0.02, epochs=1000) #, optimizer=\"RMSprop\")"
   ]
  },
  {
   "cell_type": "code",
   "execution_count": 34,
   "id": "94f52bba",
   "metadata": {},
   "outputs": [],
   "source": [
    "# Show model posteriors\n",
    "#model3.posterior_plot(ci=0.9)\n",
    "\n",
    "# True parameter values\n",
    "#plt.subplot(2, 1, 1)\n",
    "#plt.axvline(w[0], color='C0')\n",
    "#plt.axvline(w[1], color='C1')\n",
    "#plt.subplot(2, 1, 2)\n",
    "#plt.axvline(b, color='C0')"
   ]
  },
  {
   "cell_type": "code",
   "execution_count": 35,
   "id": "0d0e15ba",
   "metadata": {},
   "outputs": [],
   "source": [
    "# Make predictions with both models\n",
    "#y_pred1 = model1.predict(x)\n",
    "#y_pred2 = model2.predict(x)\n",
    "y_pred3 = model3.predict(x_test)"
   ]
  },
  {
   "cell_type": "code",
   "execution_count": 36,
   "id": "91558f97",
   "metadata": {},
   "outputs": [
    {
     "data": {
      "text/plain": [
       "array([[nan],\n",
       "       [nan],\n",
       "       [nan],\n",
       "       [nan],\n",
       "       [nan]], dtype=float32)"
      ]
     },
     "execution_count": 36,
     "metadata": {},
     "output_type": "execute_result"
    }
   ],
   "source": [
    "y_pred3[0:5]"
   ]
  },
  {
   "cell_type": "code",
   "execution_count": 37,
   "id": "dc4851b8",
   "metadata": {},
   "outputs": [
    {
     "data": {
      "text/plain": [
       "Text(0, 0.5, 'Predicted value')"
      ]
     },
     "execution_count": 37,
     "metadata": {},
     "output_type": "execute_result"
    },
    {
     "data": {
      "image/png": "[encoded data removed]",
      "text/plain": [
       "<Figure size 640x480 with 1 Axes>"
      ]
     },
     "metadata": {},
     "output_type": "display_data"
    }
   ],
   "source": [
    "# Compare predictions from two models\n",
    "#plt.plot(y, y_pred1, '.', label='Regular Model Predictions')\n",
    "#plt.plot(y, y_pred2, '.', label='Censored Model Predictions')\n",
    "#plt.plot([0.1, 100], [0.1, 100], 'k:', label='True')\n",
    "plt.xscale('log')\n",
    "plt.yscale('log')\n",
    "\n",
    "#plt.legend(loc='upper left', shadow=True, fontsize='large')\n",
    "\n",
    "#plt.plot(newY, y_pred3, '.', label='Model Predictions')\n",
    "\n",
    "plt.plot(y_test, y_pred3, '.', label='Model Predictions')\n",
    "plt.plot([-20, 50], [-20, 50], 'k:', label='True')\n",
    "plt.xlabel('Actual value')\n",
    "plt.ylabel('Predicted value')"
   ]
  },
  {
   "cell_type": "code",
   "execution_count": null,
   "id": "fa6cde77",
   "metadata": {},
   "outputs": [],
   "source": []
  },
  {
   "cell_type": "markdown",
   "id": "11036193",
   "metadata": {},
   "source": [
    "Sometimes this will successfully run. \n",
    "Sometimes it won't.\n",
    "Even when it does, it isn't terribly accurate."
   ]
  },
  {
   "cell_type": "code",
   "execution_count": null,
   "id": "5eff5d4b",
   "metadata": {},
   "outputs": [],
   "source": []
  }
 ],
 "metadata": {
  "kernelspec": {
   "display_name": "Python 3 (ipykernel)",
   "language": "python",
   "name": "python3"
  },
  "language_info": {
   "codemirror_mode": {
    "name": "ipython",
    "version": 3
   },
   "file_extension": ".py",
   "mimetype": "text/x-python",
   "name": "python",
   "nbconvert_exporter": "python",
   "pygments_lexer": "ipython3",
   "version": "3.8.19"
  }
 },
 "nbformat": 4,
 "nbformat_minor": 5
}
