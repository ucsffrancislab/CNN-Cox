{
 "cells": [
  {
   "cell_type": "code",
   "execution_count": 1,
   "id": "43c3cec5",
   "metadata": {},
   "outputs": [
    {
     "name": "stderr",
     "output_type": "stream",
     "text": [
      "2024-04-10 17:16:22.842360: I tensorflow/core/platform/cpu_feature_guard.cc:182] This TensorFlow binary is optimized to use available CPU instructions in performance-critical operations.\n",
      "To enable the following instructions: AVX2 FMA, in other operations, rebuild TensorFlow with the appropriate compiler flags.\n"
     ]
    }
   ],
   "source": [
    "from Trainmodel import traindcnncoxmodel,traincnncoxmodel\n",
    "from utils import avgcindex"
   ]
  },
  {
   "cell_type": "raw",
   "id": "62b014a7",
   "metadata": {},
   "source": [
    "#gene100\n",
    "#CNN-Cox\n",
    "#types\n",
    "conv1_size=(1, 10)\n",
    "conv2_size=(10, 1)\n",
    "input_shape = (10, 10, 1)\n",
    "le, wi = 10,10\n",
    "seed=42\n",
    "cancer_types= ['BLCA','HNSC','KIRC','LGG','LUAD','LUSC','SKCM']\n",
    "Cindex=[]\n",
    "for cancer in range(len(cancer_types)):\n",
    "    #path\n",
    "    current_path='../data/100'\n",
    "    cancer_name = cancer_types[cancer]\n",
    "    print(cancer_name)\n",
    "    output_path=current_path+'/' + cancer_name + \"100.csv\"\n",
    "    \n",
    "    save_path=\"../save model/100/CNN-Cox/\"\n",
    "    if cancer_name==\"BLCA\":\n",
    "        conv1=128\n",
    "        conv2=32\n",
    "        dense=64\n",
    "    if cancer_name=='HNSC':\n",
    "        conv1=8\n",
    "        conv2=32\n",
    "        dense=16\n",
    "    if cancer_name=='KIRC':\n",
    "        conv1=16\n",
    "        conv2=8\n",
    "        dense=16\n",
    "    if cancer_name=='LGG':\n",
    "        conv1=128\n",
    "        conv2=8\n",
    "        dense=32\n",
    "    if cancer_name=='LUAD':\n",
    "        conv1=16\n",
    "        conv2=32\n",
    "        dense=32\n",
    "    if cancer_name=='LUSC':\n",
    "        conv1=128\n",
    "        conv2=64\n",
    "        dense=16\n",
    "    if cancer_name=='SKCM':\n",
    "        conv1=32\n",
    "        conv2=32\n",
    "        dense=16 \n",
    "    score_tst_list = traincnncoxmodel(output_path,cancer_name,conv1,conv1_size,conv2,conv2_size,dense,input_shape,save_path,le, wi,seed) \n",
    "    Cindex.append(score_tst_list)\n",
    "numbers=[422,543,596,514,551,539,454]\n",
    "avgci = avgcindex(Cindex,cancer_types,numbers)\n",
    "print(\"Micro-average C-index:\",avgci)   "
   ]
  },
  {
   "cell_type": "raw",
   "id": "d3571974",
   "metadata": {},
   "source": [
    "#gene100\n",
    "#1D-CNNCox\n",
    "#types\n",
    "conv1_size=(1, 10)\n",
    "input_shape = (10, 10, 1)\n",
    "le, wi = 10,10\n",
    "seed=42\n",
    "cancer_types= ['BLCA','HNSC','KIRC','LGG','LUAD','LUSC','SKCM']\n",
    "Cindex=[]\n",
    "for cancer in range(len(cancer_types)):\n",
    "    #path\n",
    "    current_path='../data/100'\n",
    "    cancer_name = cancer_types[cancer]\n",
    "    print(cancer_name)\n",
    "    output_path=current_path+'/' + cancer_name + \"100.csv\"\n",
    "    save_path=\"../save model/100/1D-CNNCox/\"\n",
    "    if cancer_name==\"BLCA\":\n",
    "        conv1=128\n",
    "        dense=64\n",
    "    if cancer_name=='HNSC':\n",
    "        conv1=32\n",
    "        dense=512\n",
    "    if cancer_name=='KIRC':\n",
    "        conv1=8\n",
    "        dense=512\n",
    "    if cancer_name=='LGG':\n",
    "        conv1=128\n",
    "        dense=128\n",
    "    if cancer_name=='LUAD':\n",
    "        conv1=64\n",
    "        dense=16\n",
    "    if cancer_name=='LUSC':\n",
    "        conv1=128\n",
    "        dense=32\n",
    "    if cancer_name=='SKCM':\n",
    "        conv1=128\n",
    "        dense=64 \n",
    "    score_tst_list = traindcnncoxmodel(output_path,cancer_name,conv1,conv1_size,dense,input_shape,save_path,le, wi,seed) \n",
    "    Cindex.append(score_tst_list)\n",
    "numbers=[422,543,596,514,551,539,454]\n",
    "avgci = avgcindex(Cindex,cancer_types,numbers)\n",
    "print(\"Micro-average C-index:\",avgci) "
   ]
  },
  {
   "cell_type": "code",
   "execution_count": 2,
   "id": "7388cbd7",
   "metadata": {},
   "outputs": [],
   "source": [
    "import os\n",
    "os.environ[\"CUDA_VISIBLE_DEVICES\"] = \"-1\" \n",
    "import numpy as np\n",
    "import pandas as pd\n",
    "from model import cnncox,dcnncox,nncox\n",
    "from earlystoping import MyCallback\n",
    "from utils import nll,avgcindex,setup_seed\n",
    "from sklearn.preprocessing import StandardScaler\n",
    "from sklearn.model_selection import StratifiedKFold,train_test_split\n",
    "from lifelines.utils import concordance_index\n",
    "import matplotlib.pyplot as plt"
   ]
  },
  {
   "cell_type": "code",
   "execution_count": 3,
   "id": "beaa6de8",
   "metadata": {},
   "outputs": [],
   "source": [
    "\n",
    "\n",
    "\n",
    "conv1_size=(1, 10)\n",
    "#conv2_size=(10, 1)\n",
    "input_shape = (10, 10, 1)\n",
    "le, wi = 10,10\n",
    "seed=42\n",
    "\n",
    "cancer_name='LGG'\n",
    "Cindex=[]\n",
    "\n",
    "current_path='../data/100'\n",
    "output_path=current_path+'/' + cancer_name + \"100.csv\"\n",
    "save_path=\"../save model/100/1D-CNNCox/\"\n",
    "\n",
    "\n",
    "\n",
    "\n",
    "\n",
    "\n",
    "conv1=128\n",
    "dense=128\n",
    "        \n",
    "#score_tst_list = traincnncoxmodel(output_path,cancer_name,\n",
    "#                                  conv1,conv1_size,\n",
    "#                                  conv2,conv2_size,\n",
    "#                                  dense,input_shape,save_path,\n",
    "#                                  le, wi,seed) \n",
    "\n",
    "#Cindex.append(score_tst_list)\n",
    "#numbers=[422,543,596,514,551,539,454]\n",
    "#avgci = avgcindex(Cindex,cancer_types,numbers)\n",
    "#print(\"Micro-average C-index:\",avgci) \n",
    "\n",
    "\n",
    "\n",
    "setup_seed(seed)\n",
    "#data\n",
    "df_exp=pd.read_csv(output_path,index_col=0)\n",
    "gene_exp=df_exp.dropna(axis=0,subset = [\"OS\", \"OS.time\"])\n",
    "E=np.array(gene_exp[\"OS\"])\n",
    "Y=np.array(gene_exp[\"OS.time\"])\n",
    "X=np.array(gene_exp)\n",
    "X=X.astype('float64')\n",
    "X=X[:,2:]\n",
    "scaler=StandardScaler().fit(X)\n",
    "X=scaler.transform(X)\n",
    "score_tst_list = []\n",
    "score_dev_list = []\n",
    "\n"
   ]
  },
  {
   "cell_type": "code",
   "execution_count": 4,
   "id": "a8b0bbe8",
   "metadata": {},
   "outputs": [
    {
     "data": {
      "text/plain": [
       "array([1., 0., 0., 1., 0., 0., 0., 0., 0., 1., 0., 0., 0., 1., 0., 0., 1.,\n",
       "       1., 0., 0., 0., 1., 0., 1., 1., 0., 0., 0., 0., 0., 1., 0., 1., 0.,\n",
       "       0., 0., 0., 0., 1., 0., 0., 0., 1., 1., 0., 0., 0., 0., 0., 0., 1.,\n",
       "       0., 0., 0., 1., 0., 0., 0., 0., 0., 1., 0., 0., 0., 0., 1., 0., 0.,\n",
       "       0., 0., 0., 0., 0., 0., 0., 0., 0., 0., 1., 0., 0., 0., 0., 1., 0.,\n",
       "       1., 1., 0., 0., 1., 1., 0., 0., 0., 0., 0., 0., 0., 1., 0., 0., 0.,\n",
       "       1., 1., 0., 0., 0., 0., 0., 0., 1., 0., 0., 0., 0., 0., 0., 0., 0.,\n",
       "       1., 0., 0., 0., 0., 1., 1., 0., 0., 0., 0., 0., 1., 0., 0., 0., 1.,\n",
       "       0., 0., 0., 0., 1., 0., 0., 0., 0., 0., 0., 0., 0., 0., 0., 0., 0.,\n",
       "       0., 0., 1., 0., 0., 0., 0., 0., 1., 0., 1., 1., 0., 0., 1., 1., 0.,\n",
       "       0., 0., 0., 0., 1., 0., 0., 0., 0., 0., 1., 0., 0., 0., 0., 0., 0.,\n",
       "       1., 0., 1., 1., 0., 1., 1., 0., 0., 0., 0., 0., 0., 0., 0., 0., 0.,\n",
       "       1., 1., 0., 0., 0., 1., 0., 0., 0., 0., 0., 1., 1., 0., 0., 0., 0.,\n",
       "       0., 0., 0., 1., 1., 0., 1., 1., 1., 1., 0., 1., 0., 0., 0., 1., 0.,\n",
       "       0., 0., 0., 1., 0., 1., 0., 0., 0., 1., 0., 1., 0., 0., 0., 1., 1.,\n",
       "       0., 0., 0., 0., 0., 0., 1., 0., 0., 0., 0., 0., 0., 0., 0., 0., 1.,\n",
       "       1., 0., 1., 0., 0., 1., 0., 1., 0., 0., 0., 0., 1., 0., 0., 1., 0.,\n",
       "       0., 0., 0., 0., 0., 1., 1., 1., 1., 0., 1., 0., 0., 0., 0., 1., 1.,\n",
       "       1., 0., 0., 0., 0., 1., 0., 0., 0., 0., 1., 0., 1., 1., 0., 0., 0.,\n",
       "       0., 1., 0., 0., 0., 0., 1., 0., 0., 0., 1., 0., 0., 0., 0., 1., 0.,\n",
       "       0., 0., 0., 0., 1., 0., 0., 0., 1., 1., 0., 0., 0., 0., 0., 0., 0.,\n",
       "       0., 0., 0., 0., 0., 1., 1., 0., 1., 0., 0., 0., 0., 0., 1., 0., 0.,\n",
       "       0., 0., 1., 0., 0., 0., 0., 0., 0., 1., 1., 0., 0., 1., 0., 1., 0.,\n",
       "       1., 0., 0., 0., 1., 0., 0., 0., 0., 0., 0., 0., 1., 0., 1., 0., 0.,\n",
       "       0., 0., 1., 0., 0., 1., 0., 0., 0., 0., 0., 0., 0., 0., 0., 1., 0.,\n",
       "       0., 1., 0., 0., 0., 0., 0., 0., 0., 1., 0., 0., 0., 0., 1., 0., 0.,\n",
       "       0., 0., 1., 0., 1., 0., 0., 0., 1., 0., 1., 1., 0., 1., 0., 0., 0.,\n",
       "       0., 1., 0., 0., 0., 0., 0., 1., 0., 0., 0., 0., 0., 0., 0., 0., 0.,\n",
       "       0., 1., 0., 0., 0., 0., 1., 0., 0., 0., 0., 1., 0., 0., 0., 1., 0.,\n",
       "       0., 0., 1., 0., 0., 0., 0., 0., 1., 0., 0., 0., 0., 0., 0., 1., 0.,\n",
       "       0., 0., 0., 0.])"
      ]
     },
     "execution_count": 4,
     "metadata": {},
     "output_type": "execute_result"
    }
   ],
   "source": [
    "E"
   ]
  },
  {
   "cell_type": "code",
   "execution_count": 5,
   "id": "095c4155",
   "metadata": {},
   "outputs": [
    {
     "data": {
      "text/plain": [
       "(514,)"
      ]
     },
     "execution_count": 5,
     "metadata": {},
     "output_type": "execute_result"
    }
   ],
   "source": [
    "Y.shape"
   ]
  },
  {
   "cell_type": "code",
   "execution_count": 6,
   "id": "f7fe939f",
   "metadata": {},
   "outputs": [
    {
     "data": {
      "text/plain": [
       "(514,)"
      ]
     },
     "execution_count": 6,
     "metadata": {},
     "output_type": "execute_result"
    }
   ],
   "source": [
    "E.shape"
   ]
  },
  {
   "cell_type": "code",
   "execution_count": 7,
   "id": "bcf63f56",
   "metadata": {},
   "outputs": [
    {
     "data": {
      "text/plain": [
       "(514, 100)"
      ]
     },
     "execution_count": 7,
     "metadata": {},
     "output_type": "execute_result"
    }
   ],
   "source": [
    "X.shape"
   ]
  },
  {
   "cell_type": "raw",
   "id": "6589b091",
   "metadata": {},
   "source": [
    "\n",
    "#for i in range(0,5):\n",
    "\n",
    "for i in range(1):\n",
    "    ci_tst_list = []\n",
    "    ci_dev_list = []\n",
    "    kf = StratifiedKFold(n_splits=5,random_state=1,shuffle=True)\n",
    "\n",
    "    fold = 0\n",
    "    for trn_index, tst_index in kf.split(X,E):\n",
    "            print(\"kf.split loop\")\n",
    "            fold +=1\n",
    "            x_tst=X[tst_index]\n",
    "            c_tst=E[tst_index]\n",
    "            s_tst=Y[tst_index]\n",
    "\n",
    "            x_trn, x_dev ,c_trn, c_dev , s_trn, s_dev=train_test_split(\n",
    "                X[trn_index],E[trn_index],Y[trn_index],test_size=0.1,\n",
    "                stratify=E[trn_index],random_state=1)\n",
    "\n",
    "            sort_idx = np.argsort(s_trn)[::-1]\n",
    "            x_trn = x_trn[sort_idx]\n",
    "            s_trn = s_trn[sort_idx]\n",
    "            c_trn = c_trn[sort_idx]\n",
    "\n",
    "            x_trn = np.reshape(x_trn, (-1, le, wi))\n",
    "            x_dev = np.reshape(x_dev, (-1, le, wi))\n",
    "            x_tst = np.reshape(x_tst, (-1, le, wi))\n",
    "\n",
    "            x_trn = x_trn.reshape(x_trn.shape[0], le, wi, 1)\n",
    "            x_dev = x_dev.reshape(x_dev.shape[0], le, wi, 1)\n",
    "            x_tst = x_tst.reshape(x_tst.shape[0], le, wi, 1)\n",
    "        \n",
    "            #fit\n",
    "            data = (x_trn, c_trn, s_trn, x_dev, c_dev, s_dev)\n",
    "            modelpath = save_path+\"%s_fold_%s_repeat_%s_%s.hdf5\" % (\n",
    "                cancer_name,fold,i+1,le*wi)\n",
    "            checkpoint = MyCallback(modelpath, data)\n",
    "            \n",
    "            model = cnncox(conv1,conv1_size,conv2,conv2_size,dense,input_shape)\n",
    "\n",
    "            model.compile(loss=[nll(c_trn, np.sum(c_trn))],\n",
    "                          optimizer=\"adam\")\n",
    "            \n",
    "            print('Training...')\n",
    "            history = model.fit(x_trn, s_trn, batch_size=len(x_trn),\n",
    "                                epochs=1000,verbose=0,callbacks=[checkpoint], shuffle=False)\n",
    "            model.load_weights(modelpath)\n",
    "            \n",
    "            hr_pred=model.predict(x_dev,batch_size=1, verbose=0)\n",
    "            hr_pred=np.exp(hr_pred)\n",
    "            #print(hr_pred)\n",
    "            #print(s_dev)\n",
    "            #print(c_dev)\n",
    "            ci_dev=concordance_index(s_dev,-hr_pred,c_dev)\n",
    "            \n",
    "            hr_pred2=model.predict(x_tst,batch_size=1, verbose=0)\n",
    "            print(hr_pred2)\n",
    "            hr_pred2=np.exp(hr_pred2)\n",
    "            print(hr_pred2)\n",
    "            print(s_tst)\n",
    "            #print(c_tst)\n",
    "            ci_tst=concordance_index(s_tst,-hr_pred2,c_tst)\n",
    "            \n",
    "            ci_dev_list.append(ci_dev)\n",
    "            ci_tst_list.append(ci_tst)\n",
    "            \n",
    "    score_dev_list.append(ci_dev_list)\n",
    "    score_tst_list.append(ci_tst_list)\n",
    "\n",
    "    \n",
    "    \n",
    "    \n",
    "    \n",
    "    \n",
    "    \n"
   ]
  },
  {
   "cell_type": "code",
   "execution_count": null,
   "id": "8dca91db",
   "metadata": {},
   "outputs": [],
   "source": []
  },
  {
   "cell_type": "code",
   "execution_count": 12,
   "id": "bc96fc4b",
   "metadata": {
    "scrolled": false
   },
   "outputs": [
    {
     "name": "stdout",
     "output_type": "stream",
     "text": [
      "Training...\n",
      "Early stopping at 22\n",
      "[Best:on_train_end]\n",
      "\n",
      "=========================== [Best cindex (epoch = 1)] cindex=0.887097 ==================================\n"
     ]
    },
    {
     "data": {
      "image/png": "[encoded data removed]",
      "text/plain": [
       "<Figure size 640x480 with 1 Axes>"
      ]
     },
     "metadata": {},
     "output_type": "display_data"
    },
    {
     "name": "stdout",
     "output_type": "stream",
     "text": [
      "Training...\n",
      "Early stopping at 22\n",
      "[Best:on_train_end]\n",
      "\n",
      "=========================== [Best cindex (epoch = 1)] cindex=0.857988 ==================================\n"
     ]
    },
    {
     "data": {
      "image/png": "[encoded data removed]",
      "text/plain": [
       "<Figure size 640x480 with 1 Axes>"
      ]
     },
     "metadata": {},
     "output_type": "display_data"
    },
    {
     "name": "stdout",
     "output_type": "stream",
     "text": [
      "Training...\n",
      "Early stopping at 24\n",
      "[Best:on_train_end]\n",
      "\n",
      "=========================== [Best cindex (epoch = 3)] cindex=0.825726 ==================================\n"
     ]
    },
    {
     "data": {
      "image/png": "[encoded data removed]",
      "text/plain": [
       "<Figure size 640x480 with 1 Axes>"
      ]
     },
     "metadata": {},
     "output_type": "display_data"
    },
    {
     "name": "stdout",
     "output_type": "stream",
     "text": [
      "Training...\n",
      "Early stopping at 26\n",
      "[Best:on_train_end]\n",
      "\n",
      "=========================== [Best cindex (epoch = 5)] cindex=0.869565 ==================================\n"
     ]
    },
    {
     "data": {
      "image/png": "[encoded data removed]",
      "text/plain": [
       "<Figure size 640x480 with 1 Axes>"
      ]
     },
     "metadata": {},
     "output_type": "display_data"
    },
    {
     "name": "stdout",
     "output_type": "stream",
     "text": [
      "Training...\n",
      "Early stopping at 40\n",
      "[Best:on_train_end]\n",
      "\n",
      "=========================== [Best cindex (epoch = 19)] cindex=0.880829 ==================================\n"
     ]
    },
    {
     "data": {
      "image/png": "[encoded data removed]",
      "text/plain": [
       "<Figure size 640x480 with 1 Axes>"
      ]
     },
     "metadata": {},
     "output_type": "display_data"
    }
   ],
   "source": [
    "\n",
    "for i in range(0,1):\n",
    "        ci_tst_list = []\n",
    "        ci_dev_list = []\n",
    "        kf = StratifiedKFold(n_splits=5,random_state=1,shuffle=True)\n",
    "        fold = 0\n",
    "        for trn_index, tst_index in kf.split(X,E):\n",
    "            fold +=1\n",
    "            x_tst=X[tst_index]\n",
    "            c_tst=E[tst_index]\n",
    "            s_tst=Y[tst_index]\n",
    "\n",
    "            x_trn, x_dev ,c_trn, c_dev , s_trn, s_dev=train_test_split(\n",
    "                X[trn_index],E[trn_index],Y[trn_index],test_size=0.1,\n",
    "                stratify=E[trn_index],random_state=1)\n",
    "\n",
    "            sort_idx = np.argsort(s_trn)[::-1]\n",
    "            x_trn = x_trn[sort_idx]\n",
    "            s_trn = s_trn[sort_idx]\n",
    "            c_trn = c_trn[sort_idx]\n",
    "\n",
    "            x_trn = np.reshape(x_trn, (-1, le, wi))\n",
    "            x_dev = np.reshape(x_dev, (-1, le, wi))\n",
    "            x_tst = np.reshape(x_tst, (-1, le, wi))\n",
    "\n",
    "            x_trn = x_trn.reshape(x_trn.shape[0], le, wi, 1)\n",
    "            x_dev = x_dev.reshape(x_dev.shape[0], le, wi, 1)\n",
    "            x_tst = x_tst.reshape(x_tst.shape[0], le, wi, 1)\n",
    "        \n",
    "            #fit\n",
    "            data = (x_trn, c_trn, s_trn, x_dev, c_dev, s_dev)\n",
    "            modelpath = save_path+\"%s_fold_%s_repeat_%s_%s.hdf5\" % (\n",
    "                cancer_name,fold,i+1,le*wi)\n",
    "            checkpoint = MyCallback(modelpath, data)\n",
    "            \n",
    "            \n",
    "            model = dcnncox(conv1,conv1_size,dense,input_shape)\n",
    "\n",
    "            model.compile(loss=[nll(c_trn, np.sum(c_trn))],\n",
    "                          optimizer=\"adam\")\n",
    "            \n",
    "            print('Training...')\n",
    "            history = model.fit(x_trn, s_trn, batch_size=len(x_trn),\n",
    "                                epochs=1000,verbose=0,callbacks=[checkpoint], shuffle=False)\n",
    "            model.load_weights(modelpath)\n",
    "            \n",
    "            hr_pred=model.predict(x_dev,batch_size=1, verbose=0)\n",
    "            hr_pred=np.exp(hr_pred)\n",
    "\n",
    "            fig,ax = plt.subplots(1)\n",
    "            ax.scatter(hr_pred,s_dev)\n",
    "            plt.show()\n",
    "            \n",
    "            ci_dev=concordance_index(s_dev,-hr_pred,c_dev)\n",
    "            hr_pred2=model.predict(x_tst,batch_size=1, verbose=0)\n",
    "            hr_pred2=np.exp(hr_pred2)\n",
    "            ci_tst=concordance_index(s_tst,-hr_pred2,c_tst)\n",
    "            ci_dev_list.append(ci_dev)\n",
    "            ci_tst_list.append(ci_tst)\n",
    "            \n",
    "        score_dev_list.append(ci_dev_list)\n",
    "        score_tst_list.append(ci_tst_list)"
   ]
  },
  {
   "cell_type": "code",
   "execution_count": null,
   "id": "a51b7fef",
   "metadata": {},
   "outputs": [],
   "source": []
  }
 ],
 "metadata": {
  "kernelspec": {
   "display_name": "Python 3 (ipykernel)",
   "language": "python",
   "name": "python3"
  },
  "language_info": {
   "codemirror_mode": {
    "name": "ipython",
    "version": 3
   },
   "file_extension": ".py",
   "mimetype": "text/x-python",
   "name": "python",
   "nbconvert_exporter": "python",
   "pygments_lexer": "ipython3",
   "version": "3.8.19"
  }
 },
 "nbformat": 4,
 "nbformat_minor": 5
}
